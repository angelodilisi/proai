{
  "cells": [
    {
      "cell_type": "code",
      "execution_count": 1,
      "metadata": {
        "id": "yxXNEwwwrtbP"
      },
      "outputs": [],
      "source": [
        "prod1={\"Quantità\": 20, \"Prezzo di acquisto\": 0.80, \"Prezzo di vendita\": 1.40}\n",
        "prod2={\"Quantità\": 10, \"Prezzo di acquisto\": 2.20, \"Prezzo di vendita\": 4.19}\n",
        "prod3={\"Quantità\": 5, \"Prezzo di acquisto\": 3.00, \"Prezzo di vendita\": 5.49}\n",
        "\n",
        "\n",
        "vegan_store={\"latte di soia\": prod1, \"tofu\": prod2, \"seitan\": prod3}"
      ]
    },
    {
      "cell_type": "code",
      "execution_count": 2,
      "metadata": {
        "id": "COv5tZTery3R"
      },
      "outputs": [],
      "source": [
        "def help_shop():\n",
        "\n",
        "# The function show the commands that the user can use to navigate into the shop\n",
        "\n",
        "    print(\"I comandi disponibili sono i seguenti: \"\n",
        "          \"\\n• aggiungi: aggiungi un prodotto al magazzino\"\n",
        "          \"\\n• elenca: elenca i prodotto in magazzino\"\n",
        "          \"\\n• vendita: registra una vendita effettuata\"\n",
        "          \"\\n• profitti: mostra i profitti totali\"\n",
        "          \"\\n• aiuto: mostra i possibili comandi\"\n",
        "          \"\\n• chiudi: esci dal programma\\n\")"
      ]
    },
    {
      "cell_type": "code",
      "execution_count": 3,
      "metadata": {
        "id": "CE5fpeJjr4Oj"
      },
      "outputs": [],
      "source": [
        "def add_product():\n",
        "\n",
        "# The function can be used to add a new product to the store\n",
        "        prod_name=input(\"Inserisci un prodotto \")\n",
        "        if prod_name in vegan_store.keys():\n",
        "            quantity_add=int(input(\"Inserisci la quantità: \"))\n",
        "            quantity=vegan_store[prod_name][\"Quantità\"]\n",
        "            prod_buy=vegan_store[prod_name][\"Prezzo di acquisto\"]\n",
        "            prod_sell=vegan_store[prod_name][\"Prezzo di vendita\"]\n",
        "            shop_calculator=quantity_add*prod_buy\n",
        "            new_quantity=quantity+quantity_add\n",
        "            dict_shop={prod_name:{\"Quantità\": new_quantity, \"Prezzo di acquisto\": prod_buy, \"Prezzo di vendita\": prod_sell}}\n",
        "            vegan_store.update(dict_shop)\n",
        "            print(f\"Hai aggiunto {quantity_add}X di {prod_name}\")\n",
        "            add_another_product=print(input(\"Vuoi aggiungere un altro prodotto? (si/no) \"))\n",
        "            if add_another_product==\"si\":\n",
        "                prod_name=str(input(\"Aggiungi un altro prodotto al magazzino \"))\n",
        "                add_product(prod_name)\n",
        "            else:\n",
        "                print(\"A presto!\")\n",
        "\n",
        "        else:\n",
        "            quantity_add=int(input(\"Inserisci la quantità: \"))\n",
        "            prod_sell=float(input(\"Inserisci il prezzo di vendita: \"))\n",
        "            prod_buy=float(input(\"Inserisci il prezzo di acquisto: \"))\n",
        "            dict_shop={prod_name:{\"Quantità\": quantity_add, \"Prezzo di acquisto\": prod_buy, \"Prezzo di vendita\": prod_sell}}\n",
        "            shop_calculator_two=quantity_add*prod_buy\n",
        "            vegan_store.update(dict_shop)\n",
        "            print(f\"Hai aggiunto {quantity_add}X di un nuovo prodotto: {prod_name}\")\n",
        "            add_another_product=print(input(\"Vuoi aggiungere un altro prodotto? (si/no) \"))\n",
        "            if add_another_product==\"si\":\n",
        "                prod_name=str(input(\"Aggiungi un altro prodotto al magazzino \"))\n",
        "                add_product(prod_name)\n",
        "            else:\n",
        "                print(\"A presto!\")\n",
        "\n"
      ]
    },
    {
      "cell_type": "code",
      "execution_count": 4,
      "metadata": {
        "id": "zxA5fV-mr-5K"
      },
      "outputs": [],
      "source": [
        "def show_product():\n",
        "# The function can be used to show a product availability in the store\n",
        "\n",
        "    for product, feature in vegan_store.items():\n",
        "        print(\"Prodotto: \", product)\n",
        "        for chiave in feature:\n",
        "            print(chiave + \":\", feature[chiave])"
      ]
    },
    {
      "cell_type": "code",
      "execution_count": 5,
      "metadata": {
        "id": "lISSlvBasH2N"
      },
      "outputs": [],
      "source": [
        "def sell_product():\n",
        "# The function can be used to register a selling and, at th same time, to update the information\n",
        "        prod_name_sell=input(\"Inserisci un profotto \")\n",
        "        if prod_name_sell in vegan_store.keys():\n",
        "            quantity_sell=int(input(\"Inserisci la quantità: \"))\n",
        "            quantity=vegan_store[prod_name_sell][\"Quantità\"]\n",
        "            prod_buy=vegan_store[prod_name_sell][\"Prezzo di acquisto\"]\n",
        "            prod_sell=vegan_store[prod_name_sell][\"Prezzo di vendita\"]\n",
        "            new_quantity=quantity-quantity_sell\n",
        "            dict_shop={prod_name_sell: {\"Quantità\": new_quantity, \"Prezzo di acquisto\": prod_buy, \"Prezzo di vendita\": prod_sell}}\n",
        "            vegan_store.update(dict_shop)\n",
        "            print(f\"Vendita {quantity_sell}X di {prod_name_sell} registrata\")\n",
        "            buy_another_product=str(input(\"Vuoi aggiungere un altro prodotto? (si/no)\"))\n",
        "            if buy_another_product==\"si\":\n",
        "                prod_name_sell = str(input(\"Seleziona un prodotto: \"))\n",
        "                sell_product(prod_name_sell)\n",
        "            else:\n",
        "                print(\"A presto!\")\n",
        "                help_shop()\n",
        ""
      ]
    },
    {
      "cell_type": "code",
      "execution_count": 6,
      "metadata": {
        "id": "SAGiCQTSsKko"
      },
      "outputs": [],
      "source": [
        "def profits_calculator():\n",
        "\n",
        "\n",
        "#the function calculates gross and net profit for a product\n",
        "  prod_selected=input(\"Inserisci il nome del prodotto \")\n",
        "  quantity_add=float(input(\"Inserisci la quantità \"))\n",
        "  if prod_selected in vegan_store.keys():\n",
        "     prod_buy=vegan_store[prod_selected][\"Prezzo di acquisto\"]\n",
        "     prod_sell=vegan_store[prod_selected][\"Prezzo di vendita\"]\n",
        "     gross_profit=quantity_add*prod_sell\n",
        "     net_profit=gross_profit-(prod_buy*quantity_add)\n",
        "     print(f\"I profitti lordi ammontano a: {gross_profit:.2f} euro.\")\n",
        "     print(f\"I profitti netti ammontano a: {net_profit:.2f} euro. \")\n"
      ]
    },
    {
      "cell_type": "code",
      "execution_count": null,
      "metadata": {
        "colab": {
          "base_uri": "https://localhost:8080/"
        },
        "id": "ZG9pKewOsNpJ",
        "outputId": "6491b2f8-e1a3-48fd-99b5-8b90a6423f0b"
      },
      "outputs": [
        {
          "output_type": "stream",
          "name": "stdout",
          "text": [
            "Inserisci un comando: profitti\n",
            "Inserisci il nome del prodotto latte di soia\n",
            "Inserisci la quantità 4\n",
            "I profitti lordi ammontano a: 5.60 euro.\n",
            "I profitti netti ammontano a: 2.40 euro. \n"
          ]
        }
      ],
      "source": [
        "cmd = None\n",
        "\n",
        "while cmd!=\"chiudi\":\n",
        "\n",
        "    cmd=input(\"Inserisci un comando: \")\n",
        "\n",
        "    if cmd==\"vendita\":\n",
        "        sell_product()\n",
        "\n",
        "    elif cmd==\"profitti\":\n",
        "        profits_calculator()\n",
        "\n",
        "    elif cmd==\"aggiungi\":\n",
        "        add_product()\n",
        "\n",
        "\n",
        "    elif cmd==\"elenca\":\n",
        "        show_product()\n",
        "\n",
        "    elif cmd==\"aiuto\":\n",
        "        help_shop()\n",
        "\n",
        "    elif cmd==\"chiudi\":\n",
        "        print(\"A presto!\")\n",
        "        quit()\n",
        "    else:\n",
        "        print(\"Comando non valido\")\n",
        "        help_shop()\n"
      ]
    },
    {
      "cell_type": "code",
      "execution_count": null,
      "metadata": {
        "id": "UnZuXUAlsSX9"
      },
      "outputs": [],
      "source": []
    }
  ],
  "metadata": {
    "colab": {
      "provenance": []
    },
    "kernelspec": {
      "display_name": "Python 3",
      "name": "python3"
    },
    "language_info": {
      "name": "python"
    }
  },
  "nbformat": 4,
  "nbformat_minor": 0
}